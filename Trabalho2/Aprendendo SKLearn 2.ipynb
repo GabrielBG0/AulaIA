{
 "cells": [
  {
   "cell_type": "code",
   "execution_count": 1,
   "metadata": {},
   "outputs": [],
   "source": [
    "from sklearn import datasets\n",
    "digits = datasets.load_digits()\n"
   ]
  },
  {
   "cell_type": "code",
   "execution_count": 2,
   "metadata": {},
   "outputs": [],
   "source": [
    "from sklearn import tree\n",
    "from sklearn.neighbors import KNeighborsClassifier\n",
    "from sklearn.naive_bayes import GaussianNB\n",
    "\n",
    "\n",
    "dt = tree.DecisionTreeClassifier()\n",
    "knn = KNeighborsClassifier(n_neighbors=3)\n",
    "nb = GaussianNB()\n",
    "\n"
   ]
  },
  {
   "cell_type": "code",
   "execution_count": 3,
   "metadata": {},
   "outputs": [],
   "source": [
    "from sklearn import model_selection\n",
    "import numpy as np\n",
    "kf = model_selection.StratifiedKFold(n_splits=10)\n",
    "\n",
    "predicted_classes = dict()\n",
    "predicted_classes['tree'] = np.zeros(digits.target.shape[0])\n",
    "predicted_classes['knn'] = np.zeros(digits.target.shape[0])\n",
    "predicted_classes['naiveb'] = np.zeros(digits.target.shape[0])\n"
   ]
  },
  {
   "cell_type": "code",
   "execution_count": null,
   "metadata": {},
   "outputs": [],
   "source": [
    "for train, test in kf.split(digits.data, digits.target):\n",
    "    data_train, target_train = digits.data[train], digits.target[train]\n",
    "    data_test, target_test = digits.data[test], digits.target[test]"
   ]
  }
 ],
 "metadata": {
  "kernelspec": {
   "name": "python3",
   "display_name": "Python 3"
  }
 },
 "nbformat": 4,
 "nbformat_minor": 4
}